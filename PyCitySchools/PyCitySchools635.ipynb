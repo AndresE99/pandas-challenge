{
 "cells": [
  {
   "cell_type": "code",
   "execution_count": null,
   "metadata": {},
   "outputs": [],
   "source": [
    "# Dependencies and Setup\n",
    "import pandas as pd\n",
    "\n",
    "# Load the file\n",
    "school_data = \"schools_complete.csv\"\n",
    "student_data = \"students_complete.csv\"\n",
    "\n",
    "# Read School and Student Data File and store into Pandas DataFrames\n",
    "school_df = pd.read_csv(school_data)\n",
    "student_df = pd.read_csv(student_data)\n",
    "\n",
    "# Join both data frames together\n",
    "merged_df = pd.merge(student_df, school_df, how=\"left\", on=[\"school_name\", \"school_name\"])\n",
    "\n",
    "#merged_df.count()\n",
    "merged_df\n"
   ]
  },
  {
   "cell_type": "markdown",
   "metadata": {},
   "source": [
    "# DISTRICT Summary"
   ]
  },
  {
   "cell_type": "code",
   "execution_count": null,
   "metadata": {},
   "outputs": [],
   "source": [
    "# Calculate the total number of unique schools\n",
    "school_count = len(merged_df[\"school_name\"].unique())\n",
    "# Check make sure the output is correct \n",
    "school_count"
   ]
  },
  {
   "cell_type": "code",
   "execution_count": null,
   "metadata": {},
   "outputs": [],
   "source": [
    "# Calculate the total number of students\n",
    "student_count = merged_df[\"Student ID\"].count()\n",
    "# Check make sure the output is correct \n",
    "student_count"
   ]
  },
  {
   "cell_type": "code",
   "execution_count": null,
   "metadata": {},
   "outputs": [],
   "source": [
    "# Calculate the total budget\n",
    "total_budget = school_df[\"budget\"].sum()\n",
    "# Check make sure the output is correct \n",
    "total_budget"
   ]
  },
  {
   "cell_type": "code",
   "execution_count": null,
   "metadata": {},
   "outputs": [],
   "source": [
    "# Calculate the average (mean) math score\n",
    "math_avrg = merged_df[\"math_score\"].mean()\n",
    "# Check make sure the output is correct \n",
    "math_avrg"
   ]
  },
  {
   "cell_type": "code",
   "execution_count": null,
   "metadata": {},
   "outputs": [],
   "source": [
    "# Calculate the average (mean) reading score\n",
    "reading_avrg = merged_df[\"reading_score\"].mean()\n",
    "# Check make sure the output is correct \n",
    "reading_avrg"
   ]
  },
  {
   "cell_type": "code",
   "execution_count": null,
   "metadata": {
    "scrolled": true
   },
   "outputs": [],
   "source": [
    "# Calculate the percentage of students who passed math\n",
    "passed_math = merged_df.loc[(merged_df[\"math_score\"] >= 70),:].count()[\"Student ID\"]\n",
    "passed_math_percent = passed_math / float(student_count) * 100\n",
    "# Check make sure the output is correct \n",
    "passed_math_percent"
   ]
  },
  {
   "cell_type": "code",
   "execution_count": null,
   "metadata": {},
   "outputs": [],
   "source": [
    "# Calculate the percentage of students who passed reading\n",
    "passed_reading = merged_df.loc[(merged_df[\"reading_score\"] >= 70),:].count()[\"Student ID\"]\n",
    "passed_reading_percent = passed_reading / float(student_count) * 100\n",
    "# Check make sure the output is correct \n",
    "passed_reading_percent"
   ]
  },
  {
   "cell_type": "code",
   "execution_count": null,
   "metadata": {},
   "outputs": [],
   "source": [
    "# Use the following to calculate the percentage of students that passed math and reading\n",
    "passed_math_and_reading = merged_df.loc[\n",
    "    (merged_df[\"math_score\"] >= 70) & (merged_df[\"reading_score\"] >= 70),:].count()[\"Student ID\"]\n",
    "overall_pass_percent = passed_math_and_reading /  float(student_count) * 100\n",
    "\n",
    "#Checked the numbers from above calculations \n",
    "overall_pass_percent"
   ]
  },
  {
   "cell_type": "code",
   "execution_count": null,
   "metadata": {},
   "outputs": [],
   "source": [
    "# Summarize snapshot of the district's key metrics in a DataFrame\n",
    "\n",
    "#Receating a new data frame with all data from above\n",
    "district_summary = pd.DataFrame(\n",
    "    {\n",
    "        \"Total Schools\": [school_count], \n",
    "        \"Total Students\": [student_count], \n",
    "        \"Total Budget\": [total_budget],\n",
    "        \"Average Math Score\": [math_avrg], \n",
    "        \"Average Reading Score\": [reading_avrg],\n",
    "        \"% Passing Math\": [passed_math_percent],\n",
    "        \"% Passing Reading\": [passed_reading_percent],\n",
    "        \"% Overall Passing\": [overall_pass_percent]\n",
    "    }\n",
    ")\n",
    "\n",
    "#Format students and budget, added commas and decimal points\n",
    "\n",
    "district_summary[\"Total Students\"] = district_summary[\"Total Students\"].map(\"{:,}\".format)\n",
    "district_summary[\"Total Budget\"] = district_summary[\"Total Budget\"].map(\"${:,.2f}\".format)\n",
    "\n",
    "#Displaying the new data frame\n",
    "district_summary"
   ]
  },
  {
   "cell_type": "markdown",
   "metadata": {},
   "source": [
    "# SCHOOL Summary"
   ]
  },
  {
   "cell_type": "code",
   "execution_count": null,
   "metadata": {},
   "outputs": [],
   "source": [
    "school_types = school_df.set_index([\"school_name\"])[\"type\"]\n",
    "#Checked the data\n",
    "school_types"
   ]
  },
  {
   "cell_type": "code",
   "execution_count": null,
   "metadata": {},
   "outputs": [],
   "source": [
    "# Calculate the total student count per school\n",
    "per_school_counts = merged_df[\"school_name\"].value_counts()\n",
    "#Checked the data\n",
    "per_school_counts"
   ]
  },
  {
   "cell_type": "code",
   "execution_count": null,
   "metadata": {},
   "outputs": [],
   "source": [
    "# Calculate the total school budget and per capita spending per school\n",
    "per_school_budget = merged_df.groupby([\"school_name\"])[\"budget\"].mean()\n",
    "per_school_capita = per_school_budget / per_school_counts\n",
    "\n",
    "#Checked the data\n",
    "per_school_capita"
   ]
  },
  {
   "cell_type": "code",
   "execution_count": null,
   "metadata": {},
   "outputs": [],
   "source": [
    "# Calculate the average test scores per school\n",
    "per_school_math = merged_df.groupby([\"school_name\"])[\"math_score\"].mean()\n",
    "per_school_reading = merged_df.groupby([\"school_name\"])[\"reading_score\"].mean()\n",
    "\n",
    "#Checked the data\n",
    "per_school_math, per_school_reading"
   ]
  },
  {
   "cell_type": "code",
   "execution_count": null,
   "metadata": {},
   "outputs": [],
   "source": [
    "# Calculate the number of students per school with math scores of 70 or higher\n",
    "passed_math = merged_df.loc[(merged_df[\"math_score\"] >= 70),:]\n",
    "students_passing_math = passed_math.groupby([\"school_name\"]).size()\n",
    "\n",
    "#Checked the data\n",
    "students_passing_math"
   ]
  },
  {
   "cell_type": "code",
   "execution_count": null,
   "metadata": {},
   "outputs": [],
   "source": [
    "# Calculate the number of students per school with reading scores of 70 or higher\n",
    "passed_reading = merged_df.loc[(merged_df[\"reading_score\"] >= 70),:]\n",
    "students_passing_reading = passed_reading.groupby([\"school_name\"]).size()\n",
    "\n",
    "#Checked the data\n",
    "students_passing_reading"
   ]
  },
  {
   "cell_type": "code",
   "execution_count": null,
   "metadata": {},
   "outputs": [],
   "source": [
    "# Starter code and skeleton\n",
    "#Calculate the number of students who passed both math and reading with scores of 70 or highe\n",
    "passed_math_and_reading = merged_df.loc[(merged_df[\"reading_score\"] >= 70) & (merged_df[\"math_score\"] >= 70),:]\n",
    "students_passed_math_and_reading = passed_math_and_reading.groupby([\"school_name\"]).size()\n",
    "\n",
    "#Checked the data\n",
    "students_passed_math_and_reading"
   ]
  },
  {
   "cell_type": "code",
   "execution_count": null,
   "metadata": {},
   "outputs": [],
   "source": [
    "# Starter Code\n",
    "#Caculating overall passing\n",
    "per_school_passing_math = students_passing_math / per_school_counts * 100\n",
    "per_school_passing_reading = students_passing_reading / per_school_counts * 100\n",
    "overall_passing_rate = students_passed_math_and_reading / per_school_counts * 100\n",
    "\n",
    "#small test to make sure its working , can be used as a check for next part.\n",
    "overall_passing_rate"
   ]
  },
  {
   "cell_type": "code",
   "execution_count": null,
   "metadata": {},
   "outputs": [],
   "source": [
    "# Starter code\n",
    "# Create a DataFrame called `per_school_summary` with columns for the calculations above.\n",
    "per_school_summary = pd.DataFrame(\n",
    "    {\n",
    "        \"School Type\": school_types,\n",
    "        \"Total Students\": per_school_counts,\n",
    "        \"Total School Budget\": per_school_budget,\n",
    "        \"Per Student Budget\": per_school_capita,\n",
    "        \"Average Math Score\": per_school_math,\n",
    "        \"Average Reading Score\": per_school_reading,\n",
    "        \"% Passing Math\": per_school_passing_math,\n",
    "        \"% Passing Reading\": per_school_passing_reading,\n",
    "        \"% Overall Passing\": overall_passing_rate\n",
    "    }\n",
    ")\n",
    "\n",
    "# Formatting\n",
    "per_school_summary[\"Total School Budget\"] = per_school_summary[\"Total School Budget\"].map(\"${:,.2f}\".format)\n",
    "per_school_summary[\"Per Student Budget\"] = per_school_summary[\"Per Student Budget\"].map(\"${:,.2f}\".format)\n",
    "\n",
    "# Display the Per School DataFrame\n",
    "per_school_summary\n"
   ]
  },
  {
   "cell_type": "markdown",
   "metadata": {},
   "source": [
    "# Highest Performing Schools"
   ]
  },
  {
   "cell_type": "code",
   "execution_count": null,
   "metadata": {
    "scrolled": true
   },
   "outputs": [],
   "source": [
    "# Sort the schools by `% Overall Passing` in descending order and display the top 5 rows.\n",
    "#Highest Performing schools, false makes it highest to lowest\n",
    "top_schools = per_school_summary.sort_values([\"% Overall Passing\"], ascending=False)\n",
    "\n",
    "# head() already displays the top 5\n",
    "top_schools.head()"
   ]
  },
  {
   "cell_type": "markdown",
   "metadata": {},
   "source": [
    "# Lowest Performing Schools"
   ]
  },
  {
   "cell_type": "code",
   "execution_count": null,
   "metadata": {},
   "outputs": [],
   "source": [
    "# Sort the schools by `% Overall Passing` in ascending order and display the top 5 rows.\n",
    "#Bottom Performing schools the True makes it lowest to higest\n",
    "bottom_schools= per_school_summary.sort_values([\"% Overall Passing\"], ascending=True)\n",
    "\n",
    "# head() already displays the top 5\n",
    "bottom_schools.head()"
   ]
  },
  {
   "cell_type": "markdown",
   "metadata": {},
   "source": [
    "# Math Scores by Grade"
   ]
  },
  {
   "cell_type": "code",
   "execution_count": null,
   "metadata": {},
   "outputs": [],
   "source": [
    "# starter code\n",
    "# separate the data by each grade level \n",
    "ninth_grade = merged_df.loc[(merged_df[\"grade\"] == \"9th\"),:]\n",
    "tenth_grade = merged_df.loc[(merged_df[\"grade\"] == \"10th\"),:]\n",
    "eleventh_grade = merged_df.loc[(merged_df[\"grade\"] == \"11th\"),:]\n",
    "twelfth_grade = merged_df.loc[(merged_df[\"grade\"] == \"12th\"),:]\n",
    "\n",
    "# Using the separated grades group by `school_name` and take the mean of the `math_score` column for each\n",
    "ninth_math_scores = ninth_grade.groupby([\"school_name\"])[\"math_score\"].mean()\n",
    "tenth_math_scores = tenth_grade.groupby([\"school_name\"])[\"math_score\"].mean()\n",
    "eleventh_math_scores = eleventh_grade.groupby([\"school_name\"])[\"math_score\"].mean()\n",
    "twelfth_math_scores = twelfth_grade.groupby([\"school_name\"])[\"math_score\"].mean()\n",
    "\n",
    "# Once all averages have been found, create a mew data frame\n",
    "math_scores_by_grade = pd.DataFrame(\n",
    "    {\n",
    "        \"9th\": ninth_math_scores, \n",
    "        \"10th\": tenth_math_scores,\n",
    "        \"11th\": eleventh_math_scores, \n",
    "        \"12th\": twelfth_math_scores\n",
    "    }\n",
    ")\n",
    "\n",
    "# Gets rid of index name\n",
    "math_scores_by_grade.index.name = None\n",
    "\n",
    "# Display the new data frame\n",
    "math_scores_by_grade"
   ]
  },
  {
   "cell_type": "markdown",
   "metadata": {},
   "source": [
    "# Reading Scores by Grade"
   ]
  },
  {
   "cell_type": "code",
   "execution_count": null,
   "metadata": {},
   "outputs": [],
   "source": [
    "# Starter code\n",
    "# Reading performance by grade level\n",
    "# Same as the math, but instead for reading grade\n",
    "\n",
    "# separate by each grade level\n",
    "ninth_grade = merged_df.loc[(merged_df[\"grade\"] == \"9th\"),:]\n",
    "tenth_grade = merged_df.loc[(merged_df[\"grade\"] == \"10th\"),:]\n",
    "eleventh_grade = merged_df.loc[(merged_df[\"grade\"] == \"11th\"),:]\n",
    "twelfth_grade = merged_df.loc[(merged_df[\"grade\"] == \"12th\"),:]\n",
    "\n",
    "# Using the separated grades Group by `school_name` and take the mean of the the `reading_score` column for each\n",
    "ninth_reading_scores = ninth_grade.groupby([\"school_name\"])[\"reading_score\"].mean()\n",
    "tenth_reading_scores = tenth_grade.groupby([\"school_name\"])[\"reading_score\"].mean()\n",
    "eleventh_reading_scores = eleventh_grade.groupby([\"school_name\"])[\"reading_score\"].mean()\n",
    "twelfth_reading_scores = twelfth_grade.groupby([\"school_name\"])[\"reading_score\"].mean()\n",
    "\n",
    "# Once all averages have been found, create a mew data frame\n",
    "reading_scores_by_grade = pd.DataFrame(\n",
    "    {\n",
    "        \"9th\": ninth_reading_scores, \n",
    "        \"10th\": tenth_reading_scores,\n",
    "        \"11th\": eleventh_reading_scores, \n",
    "        \"12th\": twelfth_reading_scores\n",
    "    }\n",
    ")\n",
    "\n",
    "# Gets rid of index name\n",
    "reading_scores_by_grade.index.name = None\n",
    "\n",
    "# Display the new data frame\n",
    "reading_scores_by_grade"
   ]
  },
  {
   "cell_type": "markdown",
   "metadata": {},
   "source": [
    "# Scores by School Spending"
   ]
  },
  {
   "cell_type": "code",
   "execution_count": null,
   "metadata": {},
   "outputs": [],
   "source": [
    "# Create sorting bins \n",
    "# Starter code\n",
    "spending_bins = [0, 585, 630, 645, 680]\n",
    "labels = [\"<$585\", \"$585-630\", \"$630-645\", \"$645-680\"]\n",
    "\n",
    "# Create a copy \n",
    "school_spending_df = per_school_summary\n",
    "\n",
    "# Use `pd.cut`\n",
    "#use pd.cut to assign schools to bins\n",
    "    #first variable=array to be binned(sorted), second=bins, third=labels\n",
    "    #no need for \"right=False\" since low and top values of bins are broader than data\n",
    "school_spending_df[\"Spending Ranges (Per Student)\"] = pd.cut(per_school_capita, spending_bins, labels=labels,)\n",
    "# Display the data frame\n",
    "school_spending_df"
   ]
  },
  {
   "cell_type": "code",
   "execution_count": null,
   "metadata": {},
   "outputs": [],
   "source": [
    "# Starter code\n",
    "#  Calculate averages for the desired columns. Code from starter file\n",
    "spending_math_scores = school_spending_df.groupby([\"Spending Ranges (Per Student)\"])[\"Average Math Score\"].mean()\n",
    "spending_reading_scores = school_spending_df.groupby([\"Spending Ranges (Per Student)\"])[\"Average Reading Score\"].mean()\n",
    "spending_passing_math = school_spending_df.groupby([\"Spending Ranges (Per Student)\"])[\"% Passing Math\"].mean()\n",
    "spending_passing_reading = school_spending_df.groupby([\"Spending Ranges (Per Student)\"])[\"% Passing Reading\"].mean()\n",
    "overall_passing_spending = school_spending_df.groupby([\"Spending Ranges (Per Student)\"])[\"% Overall Passing\"].mean()\n",
    "\n",
    "# Assemble the new data frame\n",
    "spending_summary = pd.DataFrame(\n",
    "    {\n",
    "        \"Average Math Score\" : spending_math_scores,\n",
    "        \"Average Reading Score\": spending_reading_scores,\n",
    "        \"% Passing Math\": spending_passing_math,\n",
    "        \"% Passing Reading\": spending_passing_reading,\n",
    "        \"% Overall Passing\": overall_passing_spending\n",
    "    }\n",
    ")\n",
    "\n",
    "# Display the new data frame with averages\n",
    "spending_summary"
   ]
  },
  {
   "cell_type": "markdown",
   "metadata": {},
   "source": [
    "# Scores by School Size"
   ]
  },
  {
   "cell_type": "code",
   "execution_count": null,
   "metadata": {},
   "outputs": [],
   "source": [
    "# Establish bins. Code from starter file\n",
    "size_bins = [0, 1000, 2000, 5000]\n",
    "labels = [\"Small (<1000)\", \"Medium (1000-2000)\", \"Large (2000-5000)\"]\n",
    "\n",
    "# Categorize the spending based on the bins\n",
    "\n",
    "per_school_summary[\"School Size\"] = pd.cut(per_school_summary[\"Total Students\"], size_bins, labels=labels, right=False)\n",
    "# Display the data frame\n",
    "per_school_summary"
   ]
  },
  {
   "cell_type": "code",
   "execution_count": null,
   "metadata": {},
   "outputs": [],
   "source": [
    "# Calculate averages for the desired columns. \n",
    "size_math_scores = per_school_summary.groupby([\"School Size\"])[\"Average Math Score\"].mean()\n",
    "size_reading_scores = per_school_summary.groupby([\"School Size\"])[\"Average Reading Score\"].mean()\n",
    "size_passing_math = per_school_summary.groupby([\"School Size\"])[\"% Passing Math\"].mean()\n",
    "size_passing_reading = per_school_summary.groupby([\"School Size\"])[\"% Passing Reading\"].mean()\n",
    "size_overall_passing = per_school_summary.groupby([\"School Size\"])[\"% Overall Passing\"].mean()\n",
    "\n",
    "# Create a DataFrame called `size_summary` that breaks down school performance based on school size (small, medium, or large).\n",
    "# Use the scores above to create a new DataFrame called `size_summary`\n",
    "size_summary = pd.DataFrame(\n",
    "    {\n",
    "        \"Average Math Score\" : size_math_scores,\n",
    "        \"Average Reading Score\": size_reading_scores,\n",
    "        \"% Passing Math\": size_passing_math,\n",
    "        \"% Passing Reading\": size_passing_reading,\n",
    "        \"% Overall Passing\": size_overall_passing\n",
    "    }\n",
    ")\n",
    "# Display the new data frame with averages\n",
    "size_summary"
   ]
  },
  {
   "cell_type": "markdown",
   "metadata": {},
   "source": [
    "# Scores by School Type"
   ]
  },
  {
   "cell_type": "code",
   "execution_count": null,
   "metadata": {},
   "outputs": [],
   "source": [
    "# Group the per_school_summary DataFrame by \"School Type\" and average the results.\n",
    "# Same as above but switch out \"school size\" and instead sort by \"school type\"\n",
    "average_math_score_by_type = per_school_summary.groupby([\"School Type\"])[\"Average Math Score\"].mean()\n",
    "average_reading_score_by_type = per_school_summary.groupby([\"School Type\"])[\"Average Reading Score\"].mean()\n",
    "average_percent_passing_math_by_type = per_school_summary.groupby([\"School Type\"])[\"% Passing Math\"].mean()\n",
    "average_percent_passing_reading_by_type = per_school_summary.groupby([\"School Type\"])[\"% Passing Reading\"].mean()\n",
    "average_percent_overall_passing_by_type = per_school_summary.groupby([\"School Type\"])[\"% Overall Passing\"].mean()\n",
    "\n",
    "# Assemble the new data by type into a DataFrame called `type_summary`\n",
    "type_summary = pd.DataFrame(\n",
    "    {\n",
    "        \"Average Math Score\" : average_math_score_by_type,\n",
    "        \"Average Reading Score\": average_reading_score_by_type,\n",
    "        \"% Passing Math\": average_percent_passing_math_by_type,\n",
    "        \"% Passing Reading\": average_percent_passing_reading_by_type,\n",
    "        \"% Overall Passing\": average_percent_overall_passing_by_type\n",
    "    }\n",
    ")\n",
    "\n",
    "# Display the new data frame\n",
    "type_summary"
   ]
  },
  {
   "cell_type": "code",
   "execution_count": null,
   "metadata": {},
   "outputs": [],
   "source": []
  },
  {
   "cell_type": "code",
   "execution_count": null,
   "metadata": {},
   "outputs": [],
   "source": []
  },
  {
   "cell_type": "code",
   "execution_count": null,
   "metadata": {},
   "outputs": [],
   "source": []
  }
 ],
 "metadata": {
  "anaconda-cloud": {},
  "kernel_info": {
   "name": "python3"
  },
  "kernelspec": {
   "display_name": "Python 3 (ipykernel)",
   "language": "python",
   "name": "python3"
  },
  "language_info": {
   "codemirror_mode": {
    "name": "ipython",
    "version": 3
   },
   "file_extension": ".py",
   "mimetype": "text/x-python",
   "name": "python",
   "nbconvert_exporter": "python",
   "pygments_lexer": "ipython3",
   "version": "3.11.4"
  },
  "latex_envs": {
   "LaTeX_envs_menu_present": true,
   "autoclose": false,
   "autocomplete": true,
   "bibliofile": "biblio.bib",
   "cite_by": "apalike",
   "current_citInitial": 1,
   "eqLabelWithNumbers": true,
   "eqNumInitial": 1,
   "hotkeys": {
    "equation": "Ctrl-E",
    "itemize": "Ctrl-I"
   },
   "labels_anchors": false,
   "latex_user_defs": false,
   "report_style_numbering": false,
   "user_envs_cfg": false
  },
  "nteract": {
   "version": "0.8.4"
  },
  "vscode": {
   "interpreter": {
    "hash": "5384d77d82de63fd599f73e77f9ec786e7719288bf80a29ec0288c670ac3cf32"
   }
  }
 },
 "nbformat": 4,
 "nbformat_minor": 4
}
